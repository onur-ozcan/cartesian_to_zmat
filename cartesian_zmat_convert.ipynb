{
 "cells": [
  {
   "cell_type": "markdown",
   "metadata": {},
   "source": [
    "File of interest will open at down. Number of atoms will count for creating arrays in order to stack x,y,z coordinates."
   ]
  },
  {
   "cell_type": "code",
   "execution_count": 1,
   "metadata": {
    "collapsed": false
   },
   "outputs": [
    {
     "name": "stdout",
     "output_type": "stream",
     "text": [
      "Number of atoms= 29\n"
     ]
    }
   ],
   "source": [
    "import numpy as np\n",
    "\n",
    "with open('harmine.mol2','r') as ex_file:\n",
    "    content = ex_file.readlines()\n",
    "    atom_counter = 0\n",
    "    for i in range(len(content)):\n",
    "        if content[i][0:13] == \"@<TRIPOS>ATOM\":\n",
    "            a = i+1\n",
    "            while content[a][0:9] != '@<TRIPOS>':\n",
    "                atom_counter += 1\n",
    "                a += 1\n",
    "    print 'Number of atoms=',atom_counter"
   ]
  },
  {
   "cell_type": "markdown",
   "metadata": {},
   "source": [
    "After atom number counted, x,y,z coordinates of atoms will write into arrays.Atom names will store in 'atoms' list. Also bonds between atoms write into list for converting string type bond notations to integer type notations.\n",
    "\n",
    "Single = 1 \n",
    "Double = 2 \n",
    "Triple = 3 \n",
    "Amide = 4  \n",
    "Aromatic = 5\n",
    "Dummy = 6\n",
    "Unknown = 7\n",
    "Not Connected = 8"
   ]
  },
  {
   "cell_type": "code",
   "execution_count": 2,
   "metadata": {
    "collapsed": true
   },
   "outputs": [],
   "source": [
    "atoms = []\n",
    "bonds = []\n",
    "x_array = np.zeros((atom_counter))\n",
    "y_array = np.zeros((atom_counter))\n",
    "z_array = np.zeros((atom_counter))\n",
    "bond_mat= np.zeros((atom_counter,atom_counter))\n",
    "\n",
    "#print x_array\n",
    "#print y_array\n",
    "#print z_array\n",
    "\n",
    "with open('harmine.mol2','r') as ex_file:\n",
    "    content = ex_file.readlines()\n",
    "    for i in range(len(content)):\n",
    "        if content[i][0:13] == \"@<TRIPOS>ATOM\":\n",
    "            a = i+1\n",
    "            at_count = 0\n",
    "            while content[a][0:9] != '@<TRIPOS>':\n",
    "                split_content = content[a].split()\n",
    "                atoms.append(split_content[1])\n",
    "                x_array[at_count] = split_content[2]\n",
    "                y_array[at_count] = split_content[3]\n",
    "                z_array[at_count] = split_content[4]\n",
    "                a += 1\n",
    "                at_count += 1\n",
    "                #print split_content\n",
    "                \n",
    "        elif content[i][0:13] == \"@<TRIPOS>BOND\":\n",
    "            b = i+1\n",
    "            #print b,type(b),content[b],type(content[b])\n",
    "            while b < len(content) and content[b][0:9] != '@<TRIPOS>':\n",
    "                #print content[b]\n",
    "                split2_content= content[b].split()\n",
    "                bonds.append([int(split2_content[1])-1,int(split2_content[2])-1,split2_content[3]])\n",
    "                b += 1\n",
    "\n",
    "                \n",
    "#print x_array\n",
    "#print y_array\n",
    "#print z_array\n",
    "\n",
    "for item in bonds:\n",
    "    if item[2] == 'am':\n",
    "        item[2] = int(4)\n",
    "    \n",
    "    elif item[2] == 'ar':\n",
    "        item[2] = int(5)\n",
    "    \n",
    "    elif item[2] == 'du':\n",
    "        item[2] = int(6)\n",
    "        \n",
    "    elif item[2] == 'un':\n",
    "        item[2] = int(7)\n",
    "        \n",
    "    elif item[2] == 'nc':\n",
    "        item[2] = int(8)\n",
    "        \n",
    "for item2 in bonds:\n",
    "    item2[2] = int(item2[2])\n",
    "\n",
    "    \n",
    "#print bonds"
   ]
  },
  {
   "cell_type": "markdown",
   "metadata": {},
   "source": [
    "Bonds between atoms will write into a matrix size of (number of atoms,number of atoms)"
   ]
  },
  {
   "cell_type": "code",
   "execution_count": 4,
   "metadata": {
    "collapsed": true
   },
   "outputs": [],
   "source": [
    "for i in range(len(bonds)):\n",
    "    mi = bonds[i][0] #atom i\n",
    "    mj = bonds[i][1] #atom j\n",
    "    ms = bonds[i][2] #bond type\n",
    "    #print mi,mj,ms\n",
    "    bond_mat[mi,mj]=ms\n",
    "\n",
    "\n",
    "#print bond_mat"
   ]
  },
  {
   "cell_type": "markdown",
   "metadata": {},
   "source": [
    "\n",
    "\n",
    "![alt_text](a.png \"Title\")\n",
    "\n",
    "Image above is from a video belong to TMP Chem channel on youtube named 'Computational Chemistry 1.9 - Torison angles'\n",
    "Calculations \n",
    "\n",
    "From this part, I will try to find bond angle of water molecule which located on h2o.xyz file as an exercise. \n"
   ]
  },
  {
   "cell_type": "code",
   "execution_count": 29,
   "metadata": {
    "collapsed": false,
    "scrolled": true
   },
   "outputs": [
    {
     "name": "stdout",
     "output_type": "stream",
     "text": [
      "Lines in file: ['O', '0.53890', '0.65566', '0.00000']\n",
      "Lines in file: ['H', '1.50890', '0.65566', '0.00000']\n",
      "Lines in file: ['H', '0.21557', '1.56969', '-0.03013']\n",
      "angle_hoh: 109.471001607\n"
     ]
    }
   ],
   "source": [
    "ox_a=np.zeros((3)) #empty array for x coordinates of atoms\n",
    "oy_a=np.zeros((3)) #empty array for y coordinates of atoms\n",
    "oz_a=np.zeros((3)) #empty array for z coordinates of atoms\n",
    "\n",
    "with open('h2o.xyz','r') as co2:\n",
    "    co = 0 #line counter\n",
    "    for lines in co2: # atom file with xyz coordinates\n",
    "        lines=lines.split()\n",
    "        print 'Lines in file:',lines\n",
    "        ox_a[co] = float(lines[1]) # writing x coordinates into arrays\n",
    "        oy_a[co] = float(lines[2]) # writing y coordinates into arrays\n",
    "        oz_a[co] = float(lines[3]) # writing z coordinates into arrays\n",
    "        co += 1\n",
    "        \n",
    "#print 'ox_a',ox_a\n",
    "#print 'oy_a',oy_a\n",
    "#print 'oz_a',oz_a\n",
    "\n",
    "# for h-o-h molecule, there are 2 bond vectors oh1 and oh2\n",
    "#\n",
    "#o-h1 and o-h2 bond vectors are creating with taking oxygen as starting point and hydrogens as terminal points\n",
    "oh1 = np.array([ox_a[1]-ox_a[0],oy_a[1]-oy_a[0],oz_a[1]-oz_a[0]])\n",
    "oh2 = np.array([ox_a[2]-ox_a[0],oy_a[2]-oy_a[0],oz_a[2]-oz_a[0]])\n",
    "#print 'oh1',oh1\n",
    "#print 'oh2',oh2\n",
    "\n",
    "#calculating magnitude of o-h1 vector\n",
    "mag_oh1= np.sqrt(oh1[0]**2+oh1[1]**2+oh1[2]**2)\n",
    "#print 'mag_oh1',mag_oh1\n",
    "\n",
    "#normalizing o-h1 vector by dividing to magnitude\n",
    "unit_oh1 = oh1 / mag_oh1\n",
    "#print 'unit_oh1',unit_oh1\n",
    "\n",
    "#calculating magnitude of o-h2 vector\n",
    "mag_oh2= np.sqrt(oh2[0]**2+oh2[1]**2+oh2[2]**2)\n",
    "#print 'mag_oh2',mag_oh2\n",
    "\n",
    "#normalizing o-h2 vector by dividing to magnitude\n",
    "unit_oh2 = oh2 / mag_oh2\n",
    "#print 'unit_oh2',unit_oh2\n",
    "\n",
    "#getting dot product of vectors\n",
    "dot_oh1_oh2 = np.dot(unit_oh1,unit_oh2)\n",
    "#print 'dot-oh1-oh2:',dot_oh1_oh2\n",
    "\n",
    "#getting arc cos of dot product to find bond angle between oh1 and oh2\n",
    "angle_hoh = np.arccos(dot_oh1_oh2)\n",
    "print 'angle_hoh:',(angle_hoh/np.pi)*180"
   ]
  },
  {
   "cell_type": "markdown",
   "metadata": {},
   "source": [
    "Bond angle between 3 non-linear molecule calculated above, now ill try to calculate torsion angle h2o2 molecule which is located on h2o2.xyz file."
   ]
  },
  {
   "cell_type": "code",
   "execution_count": 28,
   "metadata": {
    "collapsed": false,
    "scrolled": true
   },
   "outputs": [
    {
     "name": "stdout",
     "output_type": "stream",
     "text": [
      "Lines in file: ['O', '-1.75288', '-0.51877', '1.33236']\n",
      "Lines in file: ['O', '-0.47370', '-0.10913', '0.77737']\n",
      "Lines in file: ['H', '-2.29018', '0.16783', '0.89329']\n",
      "Lines in file: ['H', '0.06360', '-0.79573', '1.21644']\n",
      "angle_hoo: 96.5718345804\n",
      "angle_ooh: 96.5718345804\n",
      "torsion : -180.0\n"
     ]
    }
   ],
   "source": [
    "o2x_a=np.zeros((4)) #empty array for x coordinates of atoms\n",
    "o2y_a=np.zeros((4)) #empty array for y coordinates of atoms\n",
    "o2z_a=np.zeros((4)) #empty array for z coordinates of atoms\n",
    "\n",
    "with open('h2o2.xyz','r') as h2o2: # atom file with xyz coordinates\n",
    "    h2o2c = 0 #line counter\n",
    "    for lines2 in h2o2:\n",
    "        lines2=lines2.split()\n",
    "        print 'Lines in file:',lines2\n",
    "        o2x_a[h2o2c] = float(lines2[1]) # writing x coordinates into arrays\n",
    "        o2y_a[h2o2c] = float(lines2[2]) # writing y coordinates into arrays\n",
    "        o2z_a[h2o2c] = float(lines2[3]) # writing z coordinates into arrays\n",
    "        h2o2c += 1\n",
    "        \n",
    "#print 'o2x_a',o2x_a\n",
    "#print 'o2y_a',o2y_a\n",
    "#print 'o2z_a',o2z_a\n",
    "\n",
    "# for h-o-o-h molecule, there are 4 bonds vectors:\n",
    "# \n",
    "# taking first oxygen as starting point, oh1 which vector ends at h and oo2 which vector end at second oxygen\n",
    "# taking second oxygen as starting point, oo3 and oh4 with the same manner.\n",
    "# \n",
    "# --oo2 and oo3 reverse of each other-- \n",
    "#\n",
    "#creating oh1 and oo2 bond vectors\n",
    "oh1 = np.array([o2x_a[2]-o2x_a[0],o2y_a[2]-o2y_a[0],o2z_a[2]-o2z_a[0]])\n",
    "oo2 = np.array([o2x_a[1]-o2x_a[0],o2y_a[1]-o2y_a[0],o2z_a[1]-o2z_a[0]])\n",
    "#print 'oh1',oh1\n",
    "#print 'oo2',oo2\n",
    "\n",
    "#calculating magnitude of oh1 vector\n",
    "mag_oh1= np.sqrt(oh1[0]**2+oh1[1]**2+oh1[2]**2)\n",
    "#print 'mag_oh1',mag_oh1\n",
    "\n",
    "#normalizing oh1 by dividing to  its magnitude\n",
    "unit_oh1 = oh1 / mag_oh1\n",
    "#print 'unit_oh1',unit_oh1\n",
    "\n",
    "#calculating magnitude of oo2 vector\n",
    "mag_oo2= np.sqrt(oo2[0]**2+oo2[1]**2+oo2[2]**2)\n",
    "#print 'mag_oo2',mag_oo2\n",
    "\n",
    "#normalizing oo2 by dividing to  its magnitude\n",
    "unit_oo2 = oo2 / mag_oo2\n",
    "#print 'unit_oo2',unit_oo2\n",
    "\n",
    "#getting dot product  of oh1 and oo2 \n",
    "dot_oh1_oo2 = np.dot(unit_oh1,unit_oo2)\n",
    "#print 'dot-oh1-oo2:',dot_oh1_oo2\n",
    "\n",
    "#calculating bond angle between oh1 and oo2\n",
    "angle_hoo = np.arccos(dot_oh1_oo2)\n",
    "print 'angle_hoo:',(angle_hoo/np.pi)*180\n",
    "\n",
    "#creating oo3 oh4 bond vectors\n",
    "oo3 = np.array([o2x_a[0]-o2x_a[1],o2y_a[0]-o2y_a[1],o2z_a[0]-o2z_a[1]])\n",
    "oh4 = np.array([o2x_a[3]-o2x_a[1],o2y_a[3]-o2y_a[1],o2z_a[3]-o2z_a[1]])\n",
    "#print 'oo3 :',oo3\n",
    "#print 'oh4 :',oh4\n",
    "\n",
    "#calculating magnitude of oo3 bond vector\n",
    "mag_oo3= np.sqrt(oo3[0]**2+oo3[1]**2+oo3[2]**2)\n",
    "#print 'mag_oo3',mag_oo3\n",
    "\n",
    "#normalizing oo3 by dividing to its magnitude\n",
    "unit_oo3 = oo3 / mag_oo3\n",
    "#print 'unit_oo3',unit_oo3\n",
    "\n",
    "#calculating magnitude of oh4 bond vector\n",
    "mag_oh4= np.sqrt(oh4[0]**2+oh4[1]**2+oh4[2]**2)\n",
    "#print 'mag_oh4',mag_oh4\n",
    "\n",
    "#normalizing oh4 by dividing to its magnitude\n",
    "unit_oh4 = oh4 / mag_oh4\n",
    "#print 'unit_oh4',unit_oh4\n",
    "\n",
    "# getting dot product of oo3 and  oh4 bond vectos\n",
    "dot_oo3_oh4 = np.dot(unit_oo3,unit_oh4)\n",
    "#print 'dot-oo3-oh4:',dot_oo3_oh4\n",
    "\n",
    "#calculating bond angle between oo3 and oh4\n",
    "angle_ooh = np.arccos(dot_oo3_oh4)\n",
    "print 'angle_ooh:',(angle_ooh/np.pi)*180\n",
    "\n",
    "#calculating torsion angle according to formula given at above in the image\n",
    "torsion_hooh = np.arccos((np.dot(np.cross(unit_oh1,unit_oo2),np.cross(unit_oo3,unit_oh4)))/(np.sin(angle_hoo)*np.sin(angle_ooh)))\n",
    "\n",
    "sig = np.dot(np.cross(unit_oh1,unit_oo2),unit_oh4)\n",
    "sign = 2*float(sig < 0) -1\n",
    "\n",
    "print 'torsion :' ,(torsion_hooh/np.pi)*180*sign\n"
   ]
  },
  {
   "cell_type": "code",
   "execution_count": null,
   "metadata": {
    "collapsed": true
   },
   "outputs": [],
   "source": []
  }
 ],
 "metadata": {
  "anaconda-cloud": {},
  "kernelspec": {
   "display_name": "Python [default]",
   "language": "python",
   "name": "python2"
  },
  "language_info": {
   "codemirror_mode": {
    "name": "ipython",
    "version": 2
   },
   "file_extension": ".py",
   "mimetype": "text/x-python",
   "name": "python",
   "nbconvert_exporter": "python",
   "pygments_lexer": "ipython2",
   "version": "2.7.12"
  }
 },
 "nbformat": 4,
 "nbformat_minor": 2
}
