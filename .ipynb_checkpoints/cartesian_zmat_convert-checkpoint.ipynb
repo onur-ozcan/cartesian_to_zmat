{
 "cells": [
  {
   "cell_type": "markdown",
   "metadata": {},
   "source": [
    "File of interest will open at down. Number of atoms will count for creating arrays in order to stack x,y,z coordinates."
   ]
  },
  {
   "cell_type": "code",
   "execution_count": 48,
   "metadata": {},
   "outputs": [
    {
     "name": "stdout",
     "output_type": "stream",
     "text": [
      "Number of atoms= 29\n"
     ]
    }
   ],
   "source": [
    "import numpy as np\n",
    "\n",
    "with open('harmine.mol2','r') as ex_file:\n",
    "    content = ex_file.readlines()\n",
    "    atom_counter = 0\n",
    "    for i in range(len(content)):\n",
    "        if content[i][0:13] == \"@<TRIPOS>ATOM\":\n",
    "            a = i+1\n",
    "            while content[a][0:9] != '@<TRIPOS>':\n",
    "                atom_counter += 1\n",
    "                a += 1\n",
    "    print 'Number of atoms=',atom_counter"
   ]
  },
  {
   "cell_type": "markdown",
   "metadata": {},
   "source": [
    "After atom number counted, x,y,z coordinates of atoms will write into arrays.Atom names will store in 'atoms' list. Also bonds between atoms write into list for converting string type bond notations to integer type notations.\n",
    "\n",
    "Single = 1 \n",
    "Double = 2 \n",
    "Triple = 3 \n",
    "Amide = 4  \n",
    "Aromatic = 5\n",
    "Dummy = 6\n",
    "Unknown = 7\n",
    "Not Connected = 8"
   ]
  },
  {
   "cell_type": "code",
   "execution_count": 64,
   "metadata": {},
   "outputs": [
    {
     "name": "stdout",
     "output_type": "stream",
     "text": [
      "[[0, 1, 1], [0, 17, 1], [0, 18, 1], [0, 19, 1], [1, 6, 5], [1, 2, 5], [2, 13, 1], [2, 3, 5], [3, 4, 5], [3, 7, 1], [4, 5, 5], [4, 20, 1], [5, 6, 5], [5, 21, 1], [6, 28, 1], [7, 12, 5], [7, 8, 5], [8, 9, 5], [8, 22, 1], [9, 10, 5], [9, 23, 1], [10, 11, 5], [10, 15, 1], [11, 12, 5], [11, 24, 1], [12, 13, 1], [13, 14, 1], [15, 16, 1], [16, 25, 1], [16, 26, 1], [16, 27, 1]]\n"
     ]
    }
   ],
   "source": [
    "atoms = []\n",
    "bonds = []\n",
    "x_array = np.zeros((atom_counter))\n",
    "y_array = np.zeros((atom_counter))\n",
    "z_array = np.zeros((atom_counter))\n",
    "bond_mat= np.zeros((atom_counter,atom_counter))\n",
    "\n",
    "#print x_array\n",
    "#print y_array\n",
    "#print z_array\n",
    "\n",
    "with open('harmine.mol2','r') as ex_file:\n",
    "    content = ex_file.readlines()\n",
    "    for i in range(len(content)):\n",
    "        if content[i][0:13] == \"@<TRIPOS>ATOM\":\n",
    "            a = i+1\n",
    "            at_count = 0\n",
    "            while content[a][0:9] != '@<TRIPOS>':\n",
    "                split_content = content[a].split()\n",
    "                atoms.append(split_content[1])\n",
    "                x_array[at_count] = split_content[2]\n",
    "                y_array[at_count] = split_content[3]\n",
    "                z_array[at_count] = split_content[4]\n",
    "                a += 1\n",
    "                at_count += 1\n",
    "                #print split_content\n",
    "                \n",
    "        elif content[i][0:13] == \"@<TRIPOS>BOND\":\n",
    "            b = i+1\n",
    "            #print b,type(b),content[b],type(content[b])\n",
    "            while b < len(content) and content[b][0:9] != '@<TRIPOS>':\n",
    "                #print content[b]\n",
    "                split2_content= content[b].split()\n",
    "                bonds.append([int(split2_content[1])-1,int(split2_content[2])-1,split2_content[3]])\n",
    "                b += 1\n",
    "\n",
    "                \n",
    "#print x_array\n",
    "#print y_array\n",
    "#print z_array\n",
    "\n",
    "for item in bonds:\n",
    "    if item[2] == 'am':\n",
    "        item[2] = int(4)\n",
    "    \n",
    "    elif item[2] == 'ar':\n",
    "        item[2] = int(5)\n",
    "    \n",
    "    elif item[2] == 'du':\n",
    "        item[2] = int(6)\n",
    "        \n",
    "    elif item[2] == 'un':\n",
    "        item[2] = int(7)\n",
    "        \n",
    "    elif item[2] == 'nc':\n",
    "        item[2] = int(8)\n",
    "        \n",
    "for item2 in bonds:\n",
    "    item2[2] = int(item2[2])\n",
    "\n",
    "    \n",
    "#print bonds"
   ]
  },
  {
   "cell_type": "markdown",
   "metadata": {},
   "source": [
    "Bonds between atoms will write into a matrix size of (number of atoms,number of atoms)"
   ]
  },
  {
   "cell_type": "code",
   "execution_count": 71,
   "metadata": {},
   "outputs": [],
   "source": [
    "for i in range(len(bonds)):\n",
    "    mi = bonds[i][0] #atom i\n",
    "    mj = bonds[i][1] #atom j\n",
    "    ms = bonds[i][2] #bond type\n",
    "    #print mi,mj,ms\n",
    "    bond_mat[mi,mj]=ms\n",
    "\n",
    "\n",
    "#print bond_mat"
   ]
  }
 ],
 "metadata": {
  "kernelspec": {
   "display_name": "Python 2",
   "language": "python",
   "name": "python2"
  },
  "language_info": {
   "codemirror_mode": {
    "name": "ipython",
    "version": 2
   },
   "file_extension": ".py",
   "mimetype": "text/x-python",
   "name": "python",
   "nbconvert_exporter": "python",
   "pygments_lexer": "ipython2",
   "version": "2.7.13"
  }
 },
 "nbformat": 4,
 "nbformat_minor": 2
}
